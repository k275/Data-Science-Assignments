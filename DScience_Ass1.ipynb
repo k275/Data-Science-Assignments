{
  "nbformat": 4,
  "nbformat_minor": 0,
  "metadata": {
    "colab": {
      "provenance": []
    },
    "kernelspec": {
      "name": "python3",
      "display_name": "Python 3"
    },
    "language_info": {
      "name": "python"
    }
  },
  "cells": [
    {
      "cell_type": "markdown",
      "source": [
        "##1. Write a Python program to reverse a string without using any built-in string reversal functions."
      ],
      "metadata": {
        "id": "sp81H8LlT81Y"
      }
    },
    {
      "cell_type": "code",
      "execution_count": 10,
      "metadata": {
        "colab": {
          "base_uri": "https://localhost:8080/"
        },
        "id": "i4tmrl4yTx3X",
        "outputId": "1e3910f8-5480-4837-e3fd-ef0ba96421c4"
      },
      "outputs": [
        {
          "output_type": "stream",
          "name": "stdout",
          "text": [
            "kundan\n",
            "first program reverse--> nadnuk\n",
            "second program reverse--> gninrael enihcam\n"
          ]
        }
      ],
      "source": [
        "a=input()\n",
        "rev_a=a[::-1]\n",
        "print('first program reverse-->',rev_a)\n",
        "\n",
        "## or\n",
        "\n",
        "def reverse(x):\n",
        "  reversed_x=\"\"\n",
        "  for i in range(len(x)-1,-1,-1):\n",
        "    reversed_x+=x[i]\n",
        "  return reversed_x\n",
        "print(\"second program reverse-->\",reverse('machine learning'))"
      ]
    },
    {
      "cell_type": "markdown",
      "source": [
        "##2. Implement a function to check if a given string is a palindrome."
      ],
      "metadata": {
        "id": "ka9cSadTZWcD"
      }
    },
    {
      "cell_type": "code",
      "source": [
        "def check_palindrome(string):\n",
        "  reversed_string=\"\"\n",
        "  for i in range(len(string)-1,-1,-1):\n",
        "    reversed_string+=string[i]\n",
        "  if reversed_string == string:\n",
        "    print('given string is palindrome')\n",
        "  else:\n",
        "    print('given string is not palindrome')\n",
        "\n",
        "check_palindrome(input())\n",
        "check_palindrome(input())\n"
      ],
      "metadata": {
        "colab": {
          "base_uri": "https://localhost:8080/"
        },
        "id": "kn5Q6NJSUod7",
        "outputId": "5133ca72-1022-44a1-8d23-dd01df02918f"
      },
      "execution_count": 11,
      "outputs": [
        {
          "output_type": "stream",
          "name": "stdout",
          "text": [
            "yadav\n",
            "given string is not palindrome\n",
            "rar\n",
            "given string is palindrome\n"
          ]
        }
      ]
    },
    {
      "cell_type": "markdown",
      "source": [
        "##3. Write a program to find the largest element in a given list."
      ],
      "metadata": {
        "id": "EiuDMK-YdDdK"
      }
    },
    {
      "cell_type": "code",
      "source": [
        "def largest_element(lists):\n",
        "  largest=lists[0]\n",
        "  for i in range(len(lists)):\n",
        "    if lists[i] > largest :\n",
        "      largest=lists[i]\n",
        "  return largest\n",
        "print(largest_element([9,20,22,3,10,20,44]))"
      ],
      "metadata": {
        "colab": {
          "base_uri": "https://localhost:8080/"
        },
        "id": "RxNwUxWbcIZi",
        "outputId": "7010a50c-0a60-4ed3-91d6-10dcfc806a96"
      },
      "execution_count": 12,
      "outputs": [
        {
          "output_type": "stream",
          "name": "stdout",
          "text": [
            "44\n"
          ]
        }
      ]
    },
    {
      "cell_type": "markdown",
      "source": [
        "##4. Implement a function to count the occurrence of each element in a list.\n"
      ],
      "metadata": {
        "id": "jbctX99fdD60"
      }
    },
    {
      "cell_type": "code",
      "source": [
        "def occurence(lst):\n",
        "  all_occurance= {element: None for element in lst}\n",
        "  for i in lst:\n",
        "    count=0\n",
        "    for j in lst:\n",
        "      if i==j:\n",
        "        count+=1\n",
        "    all_occurance[i]=count\n",
        "  return all_occurance\n",
        "a=occurence([1,1,1,3,4,4,3,3,3,6,6,1])\n",
        "b=[f\"{key} is {value} times occured\"for key,value in a.items()]\n",
        "print(*b,sep='\\n')"
      ],
      "metadata": {
        "colab": {
          "base_uri": "https://localhost:8080/"
        },
        "id": "FpxU7vReilJC",
        "outputId": "8fe7d74d-5260-4dd6-f99e-40dfc896d548"
      },
      "execution_count": 13,
      "outputs": [
        {
          "output_type": "stream",
          "name": "stdout",
          "text": [
            "1 is 4 times occured\n",
            "3 is 4 times occured\n",
            "4 is 2 times occured\n",
            "6 is 2 times occured\n"
          ]
        }
      ]
    },
    {
      "cell_type": "markdown",
      "source": [
        "## 5. Write a Python program to find the second largest number in a list."
      ],
      "metadata": {
        "id": "nrL2zwQdveC1"
      }
    },
    {
      "cell_type": "code",
      "source": [
        "def find_second_largest(numbers):\n",
        "    if len(numbers) < 2:\n",
        "        return None  # Return None if there are not enough elements\n",
        "\n",
        "    largest = float('-inf')  # Initialize the largest number as negative infinity\n",
        "    second_largest = float('-inf')  # Initialize the second largest as negative infinity\n",
        "\n",
        "    for num in numbers:\n",
        "        if num > largest:\n",
        "            second_largest = largest\n",
        "            largest = num\n",
        "        elif num > second_largest and num != largest:\n",
        "            second_largest = num\n",
        "\n",
        "    return second_largest\n",
        "\n",
        "my_list = [10, 5, 8, 12, 3, 7]\n",
        "second_largest = find_second_largest(my_list)\n",
        "print(\"Second largest number:\", second_largest)"
      ],
      "metadata": {
        "colab": {
          "base_uri": "https://localhost:8080/"
        },
        "id": "g5K36-P9ilst",
        "outputId": "2e491505-1f59-4dc0-ade4-239747b885d6"
      },
      "execution_count": 14,
      "outputs": [
        {
          "output_type": "stream",
          "name": "stdout",
          "text": [
            "Second largest number: 10\n"
          ]
        }
      ]
    },
    {
      "cell_type": "markdown",
      "source": [
        "##6. Implement a function to remove duplicate elements from a list."
      ],
      "metadata": {
        "id": "LTHadTSVvePA"
      }
    },
    {
      "cell_type": "code",
      "source": [
        "def remove_duplicate(x):\n",
        "  y = []\n",
        "  for i in x:\n",
        "    if i not in y:\n",
        "      y.append(i)\n",
        "  return y\n",
        "print(remove_duplicate([1, 1, 1, 3, 3, 3, 5, 5, 5, 6, 6, 7, 7, 8, 8, 0]))\n",
        "\n",
        " ## or\n",
        "\n",
        "def remove_duplicate2(x):\n",
        "  return list(set(x))\n",
        "print(remove_duplicate2([1, 1, 1, 3, 3, 3, 5, 5, 5, 6, 6, 7, 7, 8, 8, 0]))"
      ],
      "metadata": {
        "colab": {
          "base_uri": "https://localhost:8080/"
        },
        "id": "d-9T25VEw0pt",
        "outputId": "34edf5f0-870f-461d-efd0-a4fb87a1d7e7"
      },
      "execution_count": 15,
      "outputs": [
        {
          "output_type": "stream",
          "name": "stdout",
          "text": [
            "[1, 3, 5, 6, 7, 8, 0]\n",
            "[0, 1, 3, 5, 6, 7, 8]\n"
          ]
        }
      ]
    },
    {
      "cell_type": "markdown",
      "source": [
        "## 7. Write a program to calculate the factorial of a given number."
      ],
      "metadata": {
        "id": "1S0wBvEgDreg"
      }
    },
    {
      "cell_type": "code",
      "source": [
        "def factorial(num):\n",
        "  factorial=1\n",
        "  if num == 0 or num == 1:\n",
        "    return factorial\n",
        "  else:\n",
        "    while(num>1):\n",
        "      factorial*=num\n",
        "      num-=1\n",
        "  return factorial\n",
        "a=int(input(\"enter a num\"))\n",
        "print(f\"factorial is {factorial(a)}\")"
      ],
      "metadata": {
        "colab": {
          "base_uri": "https://localhost:8080/"
        },
        "id": "z4_gvKRkdohX",
        "outputId": "ffea9c2d-a435-4034-981c-c82c3d536c0e"
      },
      "execution_count": 16,
      "outputs": [
        {
          "output_type": "stream",
          "name": "stdout",
          "text": [
            "enter a num8\n",
            "factorial is 40320\n"
          ]
        }
      ]
    },
    {
      "cell_type": "markdown",
      "source": [
        "##8. Implement a function to check if a given number is prime."
      ],
      "metadata": {
        "id": "Vosn-0EQH_Eb"
      }
    },
    {
      "cell_type": "code",
      "source": [
        "def check_prime(x):\n",
        "  count=0\n",
        "  if x<2 :\n",
        "    return True\n",
        "  for i in range(2,x):\n",
        "    if x%i==0:\n",
        "      return False\n",
        "  return True\n",
        "check_prime(53)"
      ],
      "metadata": {
        "colab": {
          "base_uri": "https://localhost:8080/"
        },
        "id": "do1yiN0RdzD_",
        "outputId": "c6e03df6-2f27-46a1-be8b-9869d3730f12"
      },
      "execution_count": 17,
      "outputs": [
        {
          "output_type": "execute_result",
          "data": {
            "text/plain": [
              "True"
            ]
          },
          "metadata": {},
          "execution_count": 17
        }
      ]
    },
    {
      "cell_type": "markdown",
      "source": [
        "## 9. Write a Python program to sort a list of integers in ascending order."
      ],
      "metadata": {
        "id": "SasnuO0JMbBv"
      }
    },
    {
      "cell_type": "code",
      "source": [
        "def ascending(list):\n",
        "  n=len(list)\n",
        "  for i in range(n-1):\n",
        "    for j in range(n-i-1):\n",
        "      if list[j] > list[j+1]:\n",
        "        list[j], list[j+1] = list[j+1], list[j]\n",
        "  return list\n",
        "a=[5,4,2,6,1,8,4,2,52,5,7]\n",
        "ascending(a)"
      ],
      "metadata": {
        "colab": {
          "base_uri": "https://localhost:8080/"
        },
        "id": "bcDhSMg7ltmw",
        "outputId": "c0b9b692-ea6a-46ac-9d07-712af9a2d5bc"
      },
      "execution_count": 18,
      "outputs": [
        {
          "output_type": "execute_result",
          "data": {
            "text/plain": [
              "[1, 2, 2, 4, 4, 5, 5, 6, 7, 8, 52]"
            ]
          },
          "metadata": {},
          "execution_count": 18
        }
      ]
    },
    {
      "cell_type": "markdown",
      "source": [
        "## 10. Implement a function to find the sum of all numbers in a list."
      ],
      "metadata": {
        "id": "7v2eStMqTg28"
      }
    },
    {
      "cell_type": "code",
      "source": [
        "def sum(x):\n",
        "  sum=0\n",
        "  for i in x:\n",
        "    sum+=i\n",
        "  return sum\n",
        "sum([2,4,6,6,1,3])"
      ],
      "metadata": {
        "colab": {
          "base_uri": "https://localhost:8080/"
        },
        "id": "wDQDUyj-mG9R",
        "outputId": "ed63c91f-844c-4abf-f5c5-c6b321aaddcb"
      },
      "execution_count": 19,
      "outputs": [
        {
          "output_type": "execute_result",
          "data": {
            "text/plain": [
              "22"
            ]
          },
          "metadata": {},
          "execution_count": 19
        }
      ]
    },
    {
      "cell_type": "markdown",
      "source": [
        "##11. Write a program to find the common elements between two lists."
      ],
      "metadata": {
        "id": "zNvHP9PxUl9N"
      }
    },
    {
      "cell_type": "code",
      "source": [
        "def common(x,y):\n",
        "  common=[]\n",
        "  for i in x:\n",
        "    for j in y:\n",
        "      if i==j :\n",
        "        common.append(j)\n",
        "        break\n",
        "  return common\n",
        "print(common([1,3,5,7,8,13],[16,76,43,6,7,8]))\n",
        "#or\n",
        "\n",
        "def common_element(x,y):\n",
        "  return list(set(x).intersection(y))\n",
        "print(common_element([3,5,3,2,6,6,7,8],[4,6,43,2,6,7,8,5]))\n",
        "\n"
      ],
      "metadata": {
        "colab": {
          "base_uri": "https://localhost:8080/"
        },
        "id": "jf3Cin8oTZWu",
        "outputId": "aaa4239d-4f1f-4b6c-ea80-0976ca7e3864"
      },
      "execution_count": 20,
      "outputs": [
        {
          "output_type": "stream",
          "name": "stdout",
          "text": [
            "[7, 8]\n",
            "[2, 5, 6, 7, 8]\n"
          ]
        }
      ]
    },
    {
      "cell_type": "markdown",
      "source": [
        "##12. Implement a function to check if a given string is an anagram of another string.\n"
      ],
      "metadata": {
        "id": "GRHR1qslmAOj"
      }
    },
    {
      "cell_type": "code",
      "source": [
        "def anagram(x,y):\n",
        "  #remove spaces and nd make it lower case\n",
        "  x=x.lower().replace(\" \",\"\")\n",
        "  y=y.lower().replace(\" \",\"\")\n",
        "  #checking their lengths\n",
        "  if len(x)!= len(y):\n",
        "    return False\n",
        "  return sorted(x)==sorted(y)\n",
        "anagram(\"ravi\",\"viar\")"
      ],
      "metadata": {
        "id": "9xqEh5odoKWD",
        "colab": {
          "base_uri": "https://localhost:8080/"
        },
        "outputId": "a5084a0e-e37f-4261-fdc0-b7e1a00524e9"
      },
      "execution_count": 21,
      "outputs": [
        {
          "output_type": "execute_result",
          "data": {
            "text/plain": [
              "True"
            ]
          },
          "metadata": {},
          "execution_count": 21
        }
      ]
    },
    {
      "cell_type": "markdown",
      "source": [
        "##13. Write a Python program to generate all permutations of a given string"
      ],
      "metadata": {
        "id": "USoGX2-W5goT"
      }
    },
    {
      "cell_type": "code",
      "source": [
        "from itertools import permutations\n",
        "def gen_permutation(x):\n",
        "  perm_list=list(permutations(x))\n",
        "  for perm in perm_list:\n",
        "    print(\"\".join(perm))\n",
        "\n",
        "gen_permutation('abc')"
      ],
      "metadata": {
        "id": "WpbWBqmZqr3Z",
        "colab": {
          "base_uri": "https://localhost:8080/"
        },
        "outputId": "c6ca7c98-1e10-46cd-dc34-a162e265ba4d"
      },
      "execution_count": 22,
      "outputs": [
        {
          "output_type": "stream",
          "name": "stdout",
          "text": [
            "abc\n",
            "acb\n",
            "bac\n",
            "bca\n",
            "cab\n",
            "cba\n"
          ]
        }
      ]
    },
    {
      "cell_type": "markdown",
      "source": [
        "##14. Implement a function to calculate the Fibonacci sequence up to a given number of terms."
      ],
      "metadata": {
        "id": "Lk0wOHmF8Jsl"
      }
    },
    {
      "cell_type": "code",
      "source": [
        "def fibonacci(num):\n",
        "  x,y=0,1\n",
        "  fibonacci=[]\n",
        "  for i in range(num):\n",
        "    fibonacci.append(x)\n",
        "    x,y=y,x+y\n",
        "  return fibonacci\n",
        "\n",
        "print(fibonacci(10))"
      ],
      "metadata": {
        "id": "5hgK2dcnriAK",
        "colab": {
          "base_uri": "https://localhost:8080/"
        },
        "outputId": "4f51b28c-2c82-4daa-d8ba-556176d83a3e"
      },
      "execution_count": 23,
      "outputs": [
        {
          "output_type": "stream",
          "name": "stdout",
          "text": [
            "[0, 1, 1, 2, 3, 5, 8, 13, 21, 34]\n"
          ]
        }
      ]
    },
    {
      "cell_type": "markdown",
      "source": [
        "##15. Write a program to find the median of a list of numbers.\n"
      ],
      "metadata": {
        "id": "1sWdmV589-rB"
      }
    },
    {
      "cell_type": "code",
      "source": [
        "def median(list):\n",
        "  list.sort()\n",
        "  lenth=len(list)\n",
        "  if lenth%2==0:\n",
        "    index=int(lenth/2)\n",
        "    median=(list[index]+list[index-1])/2\n",
        "    return median\n",
        "  else:\n",
        "    return list[int(lenth/2)]\n",
        "median([3,7,6,1,2,4,5,9])"
      ],
      "metadata": {
        "id": "870_an1Dr3jd",
        "colab": {
          "base_uri": "https://localhost:8080/"
        },
        "outputId": "38e3a9a9-1f10-44cb-9cdc-f94ba631f867"
      },
      "execution_count": 24,
      "outputs": [
        {
          "output_type": "execute_result",
          "data": {
            "text/plain": [
              "4.5"
            ]
          },
          "metadata": {},
          "execution_count": 24
        }
      ]
    },
    {
      "cell_type": "markdown",
      "source": [
        "##16. Implement a function to check if a given list is sorted in non-decreasing order.\n"
      ],
      "metadata": {
        "id": "oAw3BZgkID9n"
      }
    },
    {
      "cell_type": "code",
      "source": [
        "def is_non_decreasing(list):\n",
        "  return list==sorted(list)\n",
        "is_non_decreasing([1,2,4,6,7,9])"
      ],
      "metadata": {
        "id": "72xufGbxsHVG",
        "colab": {
          "base_uri": "https://localhost:8080/"
        },
        "outputId": "ea0121a0-4f7f-4627-ebca-76fd3a1a804f"
      },
      "execution_count": 25,
      "outputs": [
        {
          "output_type": "execute_result",
          "data": {
            "text/plain": [
              "True"
            ]
          },
          "metadata": {},
          "execution_count": 25
        }
      ]
    },
    {
      "cell_type": "markdown",
      "source": [
        "##17. Write a Python program to find the intersection of two lists.\n"
      ],
      "metadata": {
        "id": "2Ato_tKvIT1P"
      }
    },
    {
      "cell_type": "code",
      "source": [
        "a=[2,3,4,5,6]\n",
        "b=[7,5,9,10,2]\n",
        "def intersection(x,y):\n",
        "  return set(x).intersection(y)\n",
        "\n",
        "print(intersection(a,b))   #call\n",
        "\n",
        "#or\n",
        "def intersection1(x,y):\n",
        "  return list(set(x) & set(y))\n",
        "print(intersection1(a,b))   #call\n",
        "\n",
        "\n",
        "#or\n",
        "def intersection2(x,y):\n",
        "  return [_ for _ in x if _ in y]\n",
        "\n",
        "print(intersection2(a,b))   #call"
      ],
      "metadata": {
        "colab": {
          "base_uri": "https://localhost:8080/"
        },
        "id": "jMtt-9WTAUo0",
        "outputId": "c871ca00-f43c-4786-b1cf-b801a022c778"
      },
      "execution_count": 26,
      "outputs": [
        {
          "output_type": "stream",
          "name": "stdout",
          "text": [
            "{2, 5}\n",
            "[2, 5]\n",
            "[2, 5]\n"
          ]
        }
      ]
    },
    {
      "cell_type": "markdown",
      "source": [
        "##18. Implement a function to find the maximum subarray sum in a given list.\n"
      ],
      "metadata": {
        "id": "jEPzlz9lIVP7"
      }
    },
    {
      "cell_type": "code",
      "source": [
        "def max_subarray_sum(arr):\n",
        "    if len(arr) == 0:\n",
        "        return 0\n",
        "\n",
        "    max_sum = float('-inf')  # Initialize with negative infinity\n",
        "    current_sum = 0\n",
        "\n",
        "    for num in arr:\n",
        "        current_sum += num\n",
        "        if current_sum > max_sum:\n",
        "            max_sum = current_sum\n",
        "        if current_sum < 0:\n",
        "            current_sum = 0\n",
        "    return max_sum\n",
        "\n",
        "arr = [-2, 1, -3, 4, -1, 2, 1, -5, 4]\n",
        "print(max_subarray_sum(arr))"
      ],
      "metadata": {
        "colab": {
          "base_uri": "https://localhost:8080/"
        },
        "id": "OprNnoQTA-QS",
        "outputId": "ddbe0752-2e95-4e2b-880e-3ba52aed7953"
      },
      "execution_count": 27,
      "outputs": [
        {
          "output_type": "stream",
          "name": "stdout",
          "text": [
            "6\n"
          ]
        }
      ]
    },
    {
      "cell_type": "markdown",
      "source": [
        "##19. Write a program to remove all vowels from a given string.\n"
      ],
      "metadata": {
        "id": "Y6BHNgKhIYSf"
      }
    },
    {
      "cell_type": "code",
      "source": [
        "def remove_voewls(x):\n",
        "  vowels='aeiou'\n",
        "  newstring=''\n",
        "  for i in x:\n",
        "    if i not in vowels:\n",
        "      newstring+=i\n",
        "  return newstring\n",
        "remove_voewls(\"kundan\")"
      ],
      "metadata": {
        "colab": {
          "base_uri": "https://localhost:8080/",
          "height": 35
        },
        "id": "7TWbxzrCBxyw",
        "outputId": "5070303a-5246-4c90-d96a-62552dd37114"
      },
      "execution_count": 28,
      "outputs": [
        {
          "output_type": "execute_result",
          "data": {
            "text/plain": [
              "'kndn'"
            ],
            "application/vnd.google.colaboratory.intrinsic+json": {
              "type": "string"
            }
          },
          "metadata": {},
          "execution_count": 28
        }
      ]
    },
    {
      "cell_type": "markdown",
      "source": [
        "##20. Implement a function to reverse the order of words in a given sentence.\n"
      ],
      "metadata": {
        "id": "BSs2ALktIdQd"
      }
    },
    {
      "cell_type": "code",
      "source": [
        "def reverse_sen(string):\n",
        "  words=string.split()\n",
        "  words.reverse()\n",
        "  reverse_sen=\" \".join(words)\n",
        "  return reverse_sen\n",
        "reverse_sen('my name is kudan')"
      ],
      "metadata": {
        "colab": {
          "base_uri": "https://localhost:8080/",
          "height": 35
        },
        "id": "iDQHpCidC4Ue",
        "outputId": "a8147ba3-b412-42c0-84bc-3515764b5269"
      },
      "execution_count": 29,
      "outputs": [
        {
          "output_type": "execute_result",
          "data": {
            "text/plain": [
              "'kudan is name my'"
            ],
            "application/vnd.google.colaboratory.intrinsic+json": {
              "type": "string"
            }
          },
          "metadata": {},
          "execution_count": 29
        }
      ]
    },
    {
      "cell_type": "markdown",
      "source": [
        "##21. Write a Python program to check if two strings are anagrams of each other.\n"
      ],
      "metadata": {
        "id": "Q1jaGvjIIg4M"
      }
    },
    {
      "cell_type": "code",
      "source": [
        "def is_anagram(x,y):\n",
        "  if len(x) != len(y):\n",
        "    return False\n",
        "  return sorted(x)==sorted(y)\n",
        "\n",
        "is_anagram(\"abcd\",'dcab')"
      ],
      "metadata": {
        "colab": {
          "base_uri": "https://localhost:8080/"
        },
        "id": "9I48WwPLIhMA",
        "outputId": "bbbc10f8-83e2-4b6a-ab1a-5081c5e6ff48"
      },
      "execution_count": 30,
      "outputs": [
        {
          "output_type": "execute_result",
          "data": {
            "text/plain": [
              "True"
            ]
          },
          "metadata": {},
          "execution_count": 30
        }
      ]
    },
    {
      "cell_type": "markdown",
      "source": [
        "##22. Implement a function to find the first non-repeating character in a string.\n"
      ],
      "metadata": {
        "id": "Vbl3KOswIht4"
      }
    },
    {
      "cell_type": "code",
      "source": [
        "def first_non_repeating(string):\n",
        "  for char in string:\n",
        "    if string.count(char)==1:\n",
        "      return char\n",
        "first_non_repeating('amarendar')"
      ],
      "metadata": {
        "colab": {
          "base_uri": "https://localhost:8080/",
          "height": 35
        },
        "id": "GDczKeshIh-x",
        "outputId": "50fd54bd-0b5f-44cc-895d-83cee194ecfe"
      },
      "execution_count": 31,
      "outputs": [
        {
          "output_type": "execute_result",
          "data": {
            "text/plain": [
              "'m'"
            ],
            "application/vnd.google.colaboratory.intrinsic+json": {
              "type": "string"
            }
          },
          "metadata": {},
          "execution_count": 31
        }
      ]
    },
    {
      "cell_type": "markdown",
      "source": [
        "##23. Write a program to find the prime factors of a given number.\n"
      ],
      "metadata": {
        "id": "Qcj4QFdKIiLC"
      }
    },
    {
      "cell_type": "code",
      "source": [
        "def prime_factors(number):\n",
        "  factors = []\n",
        "  for i in range(2, int(number ** 0.5) + 1):\n",
        "    while number % i == 0:\n",
        "      factors.append(i)\n",
        "      number //= i\n",
        "\n",
        "  if number > 1:\n",
        "    factors.append(number)\n",
        "\n",
        "  return factors\n",
        "\n",
        "factors = prime_factors(10)\n",
        "print(factors)\n",
        "\n"
      ],
      "metadata": {
        "id": "6Yhgop24IiUq",
        "colab": {
          "base_uri": "https://localhost:8080/"
        },
        "outputId": "8220dfbc-6b38-4b95-d1a3-11228b209d50"
      },
      "execution_count": 32,
      "outputs": [
        {
          "output_type": "stream",
          "name": "stdout",
          "text": [
            "[2, 5]\n"
          ]
        }
      ]
    },
    {
      "cell_type": "markdown",
      "source": [
        "##24. Implement a function to check if a given number is a power of two.\n"
      ],
      "metadata": {
        "id": "vMHGkmIWIiev"
      }
    },
    {
      "cell_type": "code",
      "source": [
        "def is_powerof2(x):\n",
        "  if x<=0:\n",
        "    return False\n",
        "  while x%2==0:\n",
        "    x=x//2\n",
        "  return x==1\n",
        "\n",
        "is_powerof2(22)"
      ],
      "metadata": {
        "colab": {
          "base_uri": "https://localhost:8080/"
        },
        "id": "nexUAAfDIinX",
        "outputId": "ff795bbe-d5fd-4b66-9284-cf7f69460eea"
      },
      "execution_count": 33,
      "outputs": [
        {
          "output_type": "execute_result",
          "data": {
            "text/plain": [
              "False"
            ]
          },
          "metadata": {},
          "execution_count": 33
        }
      ]
    },
    {
      "cell_type": "markdown",
      "source": [
        "##25. Write a Python program to merge two sorted lists into a single sorted list."
      ],
      "metadata": {
        "id": "OuwvgBGuIixA"
      }
    },
    {
      "cell_type": "code",
      "source": [
        "def mergelist(x,y):\n",
        "  return sorted(x+y)\n",
        "\n",
        "mergelist([2,4,6,7,8],[2,4,6,8,2])\n"
      ],
      "metadata": {
        "colab": {
          "base_uri": "https://localhost:8080/"
        },
        "id": "PAza08BIIi6-",
        "outputId": "f52616a6-7db3-4d59-94f3-f48a6a2e53cf"
      },
      "execution_count": 34,
      "outputs": [
        {
          "output_type": "execute_result",
          "data": {
            "text/plain": [
              "[2, 2, 2, 4, 4, 6, 6, 7, 8, 8]"
            ]
          },
          "metadata": {},
          "execution_count": 34
        }
      ]
    },
    {
      "cell_type": "markdown",
      "source": [
        "##26. Implement a function to find the mode of a list of numbers.\n"
      ],
      "metadata": {
        "id": "GUudVbhBIjEB"
      }
    },
    {
      "cell_type": "code",
      "source": [
        "def mode(mylist):\n",
        "  mylist1=list(set(mylist))\n",
        "  occurence=0\n",
        "  mode=0\n",
        "  for i in mylist1:\n",
        "    if mylist.count(i)>occurence:\n",
        "      occurence=mylist.count(i)\n",
        "      mode=i\n",
        "  return mode\n",
        "mode([1,1,2,3,4,1,1,3,4])"
      ],
      "metadata": {
        "colab": {
          "base_uri": "https://localhost:8080/"
        },
        "id": "eKXDKO6JIjNo",
        "outputId": "e200d046-1d33-4982-fedc-f9296fcaa77b"
      },
      "execution_count": 35,
      "outputs": [
        {
          "output_type": "execute_result",
          "data": {
            "text/plain": [
              "1"
            ]
          },
          "metadata": {},
          "execution_count": 35
        }
      ]
    },
    {
      "cell_type": "markdown",
      "source": [
        "##27. Write a program to find the greatest common divisor (GCD) of two numbers.\n"
      ],
      "metadata": {
        "id": "GQGbbtcpIjdV"
      }
    },
    {
      "cell_type": "code",
      "source": [
        "def gcd(x, y):\n",
        "  while y != 0:\n",
        "    x, y = y, x % y\n",
        "\n",
        "  return x\n",
        "\n",
        "\n",
        "x = 10\n",
        "y = 20\n",
        "gcd_value = gcd(x, y)\n",
        "print(gcd_value)\n"
      ],
      "metadata": {
        "colab": {
          "base_uri": "https://localhost:8080/"
        },
        "id": "iOG8VS9ZIjmL",
        "outputId": "fda73253-0d21-47c2-8e9f-55f895034c46"
      },
      "execution_count": 36,
      "outputs": [
        {
          "output_type": "stream",
          "name": "stdout",
          "text": [
            "10\n"
          ]
        }
      ]
    },
    {
      "cell_type": "markdown",
      "source": [
        "##28. Implement a function to calculate the square root of a given number.\n"
      ],
      "metadata": {
        "id": "Lp5weqdkIjvR"
      }
    },
    {
      "cell_type": "code",
      "source": [
        "def sqrt(x):\n",
        "  sqrt=x**0.5\n",
        "  return sqrt\n",
        "sqrt(9)"
      ],
      "metadata": {
        "colab": {
          "base_uri": "https://localhost:8080/"
        },
        "id": "HbjEYm9_IkIO",
        "outputId": "c2887dfd-2660-416f-9790-71bfc28c263a"
      },
      "execution_count": 37,
      "outputs": [
        {
          "output_type": "execute_result",
          "data": {
            "text/plain": [
              "3.0"
            ]
          },
          "metadata": {},
          "execution_count": 37
        }
      ]
    },
    {
      "cell_type": "markdown",
      "source": [
        "## 29. Write a Python program to check if a given string is a valid palindrome ignoring non-alphanumeric characters"
      ],
      "metadata": {
        "id": "Ocu9ODaLIkRG"
      }
    },
    {
      "cell_type": "code",
      "source": [
        "def ispalindrome(x):\n",
        "  return x==x[::-1]\n",
        "\n",
        "ispalindrome('mom')"
      ],
      "metadata": {
        "id": "Qhq-mMvqIkZ8",
        "colab": {
          "base_uri": "https://localhost:8080/"
        },
        "outputId": "73073cb4-c0fd-425d-eb94-576bb9e2cfad"
      },
      "execution_count": 38,
      "outputs": [
        {
          "output_type": "execute_result",
          "data": {
            "text/plain": [
              "True"
            ]
          },
          "metadata": {},
          "execution_count": 38
        }
      ]
    },
    {
      "cell_type": "markdown",
      "source": [
        "##30. Implement a function to find the minimum element in a rotated sorted list."
      ],
      "metadata": {
        "id": "TqsM2AioIkjG"
      }
    },
    {
      "cell_type": "code",
      "source": [
        "def minimum_of_rotated_sorted_list(nums):\n",
        "    left = 0\n",
        "    right = len(nums) - 1\n",
        "\n",
        "    while left < right:\n",
        "        mid = (left + right) // 2\n",
        "\n",
        "        if nums[mid] > nums[right]:\n",
        "            left = mid + 1\n",
        "        else:\n",
        "            right = mid\n",
        "\n",
        "    return nums[left]\n",
        "\n",
        "minimum_of_rotated_sorted_list([5,6,7,1,8,2,3,4])"
      ],
      "metadata": {
        "id": "wIJYASz3Ikq4",
        "colab": {
          "base_uri": "https://localhost:8080/"
        },
        "outputId": "2cf1d98f-1b75-44b2-d5bb-0547f64f38bc"
      },
      "execution_count": 39,
      "outputs": [
        {
          "output_type": "execute_result",
          "data": {
            "text/plain": [
              "1"
            ]
          },
          "metadata": {},
          "execution_count": 39
        }
      ]
    },
    {
      "cell_type": "markdown",
      "source": [
        "##31. Write a program to find the sum of all even numbers in a list.\n"
      ],
      "metadata": {
        "id": "lRL1ufH76LBa"
      }
    },
    {
      "cell_type": "code",
      "source": [
        "def even_nums(x):\n",
        "  even_nums=[_ for _ in x if _%2==0]\n",
        "  return sum(even_nums)\n",
        "even_nums([5,6,7,8,1,2,3,4])"
      ],
      "metadata": {
        "colab": {
          "base_uri": "https://localhost:8080/"
        },
        "id": "e1oOrXXu6LNA",
        "outputId": "e672eb89-26bf-4b13-989c-4697987bf14c"
      },
      "execution_count": 40,
      "outputs": [
        {
          "output_type": "execute_result",
          "data": {
            "text/plain": [
              "20"
            ]
          },
          "metadata": {},
          "execution_count": 40
        }
      ]
    },
    {
      "cell_type": "markdown",
      "source": [
        "##32. Implement a function to calculate the power of a number using recursion.\n"
      ],
      "metadata": {
        "id": "YNoLHg1K6LVq"
      }
    },
    {
      "cell_type": "code",
      "source": [
        "def power(base, exponent):\n",
        "    if exponent == 0:\n",
        "        return 1\n",
        "    elif exponent < 0:\n",
        "        return 1 / power(base, -exponent)\n",
        "    else:\n",
        "        return base * power(base, exponent - 1)\n",
        "result = power(2, 3)\n",
        "print(result)  # Output: 8\n"
      ],
      "metadata": {
        "colab": {
          "base_uri": "https://localhost:8080/"
        },
        "id": "x2PyJ7Z16Lhp",
        "outputId": "67fa33bd-a50c-4e8e-85c0-85d8ef400596"
      },
      "execution_count": 41,
      "outputs": [
        {
          "output_type": "stream",
          "name": "stdout",
          "text": [
            "8\n"
          ]
        }
      ]
    },
    {
      "cell_type": "markdown",
      "source": [
        "##33. Write a Python program to remove duplicates from a list while preserving the order.\n"
      ],
      "metadata": {
        "id": "kWj9P__X6Lse"
      }
    },
    {
      "cell_type": "code",
      "source": [
        "def remove_duplicate_by_order(x):\n",
        "  odered_list=[]\n",
        "  for i in x:\n",
        "    if i not in odered_list:\n",
        "      odered_list.append(i)\n",
        "  return odered_list\n",
        "remove_duplicate_by_order([1,2,3,4,4,7,3,6,7,8,1])\n"
      ],
      "metadata": {
        "colab": {
          "base_uri": "https://localhost:8080/"
        },
        "id": "2hB8Bp2i6L3P",
        "outputId": "9ef41563-a328-4b50-9016-c287cf5da543"
      },
      "execution_count": 42,
      "outputs": [
        {
          "output_type": "execute_result",
          "data": {
            "text/plain": [
              "[1, 2, 3, 4, 7, 6, 8]"
            ]
          },
          "metadata": {},
          "execution_count": 42
        }
      ]
    },
    {
      "cell_type": "markdown",
      "source": [
        "##34. Implement a function to find the longest common prefix among a list of strings.\n"
      ],
      "metadata": {
        "id": "sIzODI1V6MAF"
      }
    },
    {
      "cell_type": "code",
      "source": [
        "def longest_common_prefix(strs):\n",
        "    if not strs:  # If the list is empty\n",
        "        return \"\"\n",
        "\n",
        "    prefix = strs[0]  # Initialize the prefix with the first string\n",
        "\n",
        "    for string in strs[1:]:\n",
        "        while string.find(prefix) != 0:\n",
        "            prefix = prefix[:-1]  # Remove the last character from the prefix\n",
        "\n",
        "        if not prefix:  # If the prefix becomes empty\n",
        "            return \"\"\n",
        "\n",
        "    return prefix\n",
        "strings = [\"flower\", \"flow\", \"flight\"]\n",
        "common_prefix = longest_common_prefix(strings)\n",
        "print(common_prefix)  # Output: \"fl\"\n"
      ],
      "metadata": {
        "colab": {
          "base_uri": "https://localhost:8080/"
        },
        "id": "i1OBumCa6MJ9",
        "outputId": "91d03337-3494-43cf-f24b-e1f5a6ec8995"
      },
      "execution_count": 43,
      "outputs": [
        {
          "output_type": "stream",
          "name": "stdout",
          "text": [
            "fl\n"
          ]
        }
      ]
    },
    {
      "cell_type": "markdown",
      "source": [
        "##35. Write a program to check if a given number is a perfect square.\n"
      ],
      "metadata": {
        "id": "RfW1jUc46MST"
      }
    },
    {
      "cell_type": "code",
      "source": [
        "def is_prfct_sqrt(x):\n",
        "  sqrt=int(x**0.5)\n",
        "  return x==sqrt**2\n",
        "\n",
        "is_prfct_sqrt(10)"
      ],
      "metadata": {
        "colab": {
          "base_uri": "https://localhost:8080/"
        },
        "id": "0QkpiLuu6Mce",
        "outputId": "cccc0dbf-3e8f-4134-d6eb-97535ff2ca74"
      },
      "execution_count": 44,
      "outputs": [
        {
          "output_type": "execute_result",
          "data": {
            "text/plain": [
              "False"
            ]
          },
          "metadata": {},
          "execution_count": 44
        }
      ]
    },
    {
      "cell_type": "markdown",
      "source": [
        "##36. Implement a function to calculate the product of all elements in a list.\n"
      ],
      "metadata": {
        "id": "ag_BHSCV6Mmm"
      }
    },
    {
      "cell_type": "code",
      "source": [
        "def product_of_all(x):\n",
        "  product=1\n",
        "  for i in x:\n",
        "    product*=i\n",
        "  return product\n",
        "\n",
        "product_of_all([2,3,5])"
      ],
      "metadata": {
        "colab": {
          "base_uri": "https://localhost:8080/"
        },
        "id": "-a1YJCLS6Mxn",
        "outputId": "1fc20dc8-50a2-4104-e6de-ddcf3bce05db"
      },
      "execution_count": 45,
      "outputs": [
        {
          "output_type": "execute_result",
          "data": {
            "text/plain": [
              "30"
            ]
          },
          "metadata": {},
          "execution_count": 45
        }
      ]
    },
    {
      "cell_type": "markdown",
      "source": [
        "##37. Write a Python program to reverse the order of words in a sentence while preserving the word order."
      ],
      "metadata": {
        "id": "rxH4d_PY6M6b"
      }
    },
    {
      "cell_type": "code",
      "source": [
        "def reverse_order(x):\n",
        "  reversed_words=[]\n",
        "  for i in x.split():\n",
        "    reversed_words.append(i[::-1])\n",
        "  return \" \".join(reversed_words)\n",
        "\n",
        "reverse_order('Hy my name is kundan')"
      ],
      "metadata": {
        "colab": {
          "base_uri": "https://localhost:8080/",
          "height": 35
        },
        "id": "80XH5ClU6NFD",
        "outputId": "965d4792-56a9-4afe-e760-44f8d3245aea"
      },
      "execution_count": 46,
      "outputs": [
        {
          "output_type": "execute_result",
          "data": {
            "text/plain": [
              "'yH ym eman si nadnuk'"
            ],
            "application/vnd.google.colaboratory.intrinsic+json": {
              "type": "string"
            }
          },
          "metadata": {},
          "execution_count": 46
        }
      ]
    },
    {
      "cell_type": "markdown",
      "source": [
        "##38. Implement a function to find the missing number in a given list of consecutive numbers.\n"
      ],
      "metadata": {
        "id": "azMaXwBQ6NS6"
      }
    },
    {
      "cell_type": "code",
      "source": [
        "from statistics import mode\n",
        "def missing_consecutive(x):\n",
        "  consecutives=mode([x[i+1]-x[i] for i in range(len(x)-1)])\n",
        "  missings=[]\n",
        "  flag=True #first is always available True and if it false it means first one is missing\n",
        "  for i in range(len(x)-1):\n",
        "    if x[i+1]-x[i]!=consecutives:\n",
        "      if flag:\n",
        "        missings.append(x[i]+consecutives)\n",
        "        flag=False\n",
        "      else:\n",
        "        flag=True\n",
        "        pass\n",
        "  return missings\n",
        "\n",
        "missing_consecutive([1,2,3,6,7,9])\n",
        "\n"
      ],
      "metadata": {
        "colab": {
          "base_uri": "https://localhost:8080/"
        },
        "id": "vkfWjAR96Ncz",
        "outputId": "6dccc49b-11c8-4abd-c088-d8bef56c667e"
      },
      "execution_count": 47,
      "outputs": [
        {
          "output_type": "execute_result",
          "data": {
            "text/plain": [
              "[4]"
            ]
          },
          "metadata": {},
          "execution_count": 47
        }
      ]
    },
    {
      "cell_type": "markdown",
      "source": [
        "##39. Write a program to find the sum of digits of a given number.\n"
      ],
      "metadata": {
        "id": "CYnBBPa36Nsd"
      }
    },
    {
      "cell_type": "code",
      "source": [
        "def sumofdigits(x):\n",
        "  sum=0\n",
        "  for i in range(int(len(str(x)))):\n",
        "    sum+=(x%10)\n",
        "    x//=10\n",
        "  return sum\n",
        "sumofdigits(2349)"
      ],
      "metadata": {
        "colab": {
          "base_uri": "https://localhost:8080/"
        },
        "id": "jT652I0D6N34",
        "outputId": "3891913a-2bef-4a2c-8a3d-24b630387a29"
      },
      "execution_count": 48,
      "outputs": [
        {
          "output_type": "execute_result",
          "data": {
            "text/plain": [
              "18"
            ]
          },
          "metadata": {},
          "execution_count": 48
        }
      ]
    },
    {
      "cell_type": "markdown",
      "source": [
        "##40. Implement a function to check if a given string is a valid palindrome considering case sensitivity."
      ],
      "metadata": {
        "id": "-efgBrNC-73U"
      }
    },
    {
      "cell_type": "code",
      "source": [
        "def valid_paindrome(x):\n",
        "  return x==x[::-1]\n",
        "\n",
        "valid_paindrome(\"Rar\")"
      ],
      "metadata": {
        "colab": {
          "base_uri": "https://localhost:8080/"
        },
        "id": "s7gO25ah--KY",
        "outputId": "fc04523e-b836-4baa-bd3c-8a72035280fe"
      },
      "execution_count": 49,
      "outputs": [
        {
          "output_type": "execute_result",
          "data": {
            "text/plain": [
              "False"
            ]
          },
          "metadata": {},
          "execution_count": 49
        }
      ]
    },
    {
      "cell_type": "markdown",
      "source": [
        "##41. Write a Python program to find the smallest missing positive integer in a list.\n"
      ],
      "metadata": {
        "id": "eTf3TX68--bX"
      }
    },
    {
      "cell_type": "code",
      "source": [
        "def mis_smll_ps_integer(x):\n",
        "  pos_int=[i for i in x if i>0 and type(i)==int]\n",
        "  pos_int.sort()\n",
        "  if pos_int[0]!=1:\n",
        "    return 1\n",
        "  for i in range(len(pos_int)) :\n",
        "    if pos_int[i+1]-pos_int[i] > 1 :\n",
        "                 return (pos_int[i]+1)\n",
        "mis_smll_ps_integer([-3, 5,1, 2, -1, 4, 6])"
      ],
      "metadata": {
        "colab": {
          "base_uri": "https://localhost:8080/"
        },
        "id": "E64SVaF2--lO",
        "outputId": "cee3e8ce-c8fe-41da-fa88-8532689b2cf8"
      },
      "execution_count": 50,
      "outputs": [
        {
          "output_type": "execute_result",
          "data": {
            "text/plain": [
              "3"
            ]
          },
          "metadata": {},
          "execution_count": 50
        }
      ]
    },
    {
      "cell_type": "markdown",
      "source": [
        "##42. Implement a function to find the longest palindrome substring in a given string.\n"
      ],
      "metadata": {
        "id": "8kEerxUy--ti"
      }
    },
    {
      "cell_type": "code",
      "source": [
        "def longest_palindrome(x):\n",
        "  longest_palindrome=\"\"\n",
        "  for i in range(len(x)):\n",
        "    for j in range(i+1,len(x)):\n",
        "      temp=x[i:j]\n",
        "      if temp==temp[::-1]:\n",
        "        if len(temp)>len(longest_palindrome):\n",
        "          longest_palindrome=temp\n",
        "  return longest_palindrome\n",
        "longest_palindrome(\"eababase\")"
      ],
      "metadata": {
        "colab": {
          "base_uri": "https://localhost:8080/",
          "height": 35
        },
        "id": "M-0PpfKU--3b",
        "outputId": "e84a18db-0673-4f32-eacc-58ef8fcb3668"
      },
      "execution_count": 51,
      "outputs": [
        {
          "output_type": "execute_result",
          "data": {
            "text/plain": [
              "'ababa'"
            ],
            "application/vnd.google.colaboratory.intrinsic+json": {
              "type": "string"
            }
          },
          "metadata": {},
          "execution_count": 51
        }
      ]
    },
    {
      "cell_type": "markdown",
      "source": [
        "##43. Write a program to find the number of occurrences of a given element in a list.\n"
      ],
      "metadata": {
        "id": "dEUtMm0_-_Al"
      }
    },
    {
      "cell_type": "code",
      "source": [
        "def occurence(element,list):\n",
        "  count=0\n",
        "  for i in list:\n",
        "    if i==element:\n",
        "      count+=1\n",
        "  return count\n",
        "\n",
        "occurence(9,[4,5,6,7,2,3,9,9,4,3,21,2,9,9])"
      ],
      "metadata": {
        "colab": {
          "base_uri": "https://localhost:8080/"
        },
        "id": "21Kvit_j-_KN",
        "outputId": "43632e68-7e3b-4ba7-c162-b3a7b8ea6fa3"
      },
      "execution_count": 52,
      "outputs": [
        {
          "output_type": "execute_result",
          "data": {
            "text/plain": [
              "4"
            ]
          },
          "metadata": {},
          "execution_count": 52
        }
      ]
    },
    {
      "cell_type": "markdown",
      "source": [
        "##44. Implement a function to check if a given number is a perfect number.\n"
      ],
      "metadata": {
        "id": "j-d3r0hU-_Uj"
      }
    },
    {
      "cell_type": "code",
      "source": [
        "# a positive integer that is equal to the sum of its proper divisors\n",
        "def is_perfect(x):\n",
        "  divisors=[i for i in range(1,x) if x%i==0]\n",
        "  return sum(divisors)==x\n",
        "\n",
        "is_perfect(28)"
      ],
      "metadata": {
        "colab": {
          "base_uri": "https://localhost:8080/"
        },
        "id": "ShxZlk1d-_eO",
        "outputId": "5bedd608-372e-49f6-869e-63dc5b46fdc8"
      },
      "execution_count": 53,
      "outputs": [
        {
          "output_type": "execute_result",
          "data": {
            "text/plain": [
              "True"
            ]
          },
          "metadata": {},
          "execution_count": 53
        }
      ]
    },
    {
      "cell_type": "markdown",
      "source": [
        "##45. Write a Python program to remove all duplicates from a string.\n"
      ],
      "metadata": {
        "id": "sadG0tMt-_nX"
      }
    },
    {
      "cell_type": "code",
      "source": [
        "def remove_dup_str(x):\n",
        "\n",
        "  return \"\".join(set([*x]))\n",
        "\n",
        "remove_dup_str(\"kundan\")"
      ],
      "metadata": {
        "colab": {
          "base_uri": "https://localhost:8080/",
          "height": 35
        },
        "id": "Nsrj2E1A-_wf",
        "outputId": "f207e3f9-e13d-49ca-810a-3d6745b53da4"
      },
      "execution_count": 60,
      "outputs": [
        {
          "output_type": "execute_result",
          "data": {
            "text/plain": [
              "'kudan'"
            ],
            "application/vnd.google.colaboratory.intrinsic+json": {
              "type": "string"
            }
          },
          "metadata": {},
          "execution_count": 60
        }
      ]
    },
    {
      "cell_type": "markdown",
      "source": [
        "##46. Implement a function to find the first missing positive\n"
      ],
      "metadata": {
        "id": "9rVbIewI-_5V"
      }
    },
    {
      "cell_type": "code",
      "source": [
        "def mis_first_ps_integer(x):\n",
        "  pos_int=[i for i in x if i>0 and type(i)==int]\n",
        "  pos_int.sort()\n",
        "  if pos_int[0]!=1:\n",
        "    return 1\n",
        "  for i in range(len(pos_int)) :\n",
        "    if pos_int[i+1]-pos_int[i] > 1 :\n",
        "                 return (pos_int[i]+1)\n",
        "mis_first_ps_integer([-3, 5,1, 2, -1, 4, 6])"
      ],
      "metadata": {
        "colab": {
          "base_uri": "https://localhost:8080/"
        },
        "id": "RxFOb1-0_ABY",
        "outputId": "c902ab21-e359-453d-ecb2-7cc45dbc2d91"
      },
      "execution_count": 61,
      "outputs": [
        {
          "output_type": "execute_result",
          "data": {
            "text/plain": [
              "3"
            ]
          },
          "metadata": {},
          "execution_count": 61
        }
      ]
    },
    {
      "cell_type": "markdown",
      "source": [
        "##47. Implement a function to find the longest palindrome in a given list.\n"
      ],
      "metadata": {
        "id": "glfVnNDHSqUd"
      }
    },
    {
      "cell_type": "code",
      "source": [
        "def longest_palindrome(x):\n",
        "  palindromes=[i for i in x if i.lower()==i[::-1].lower()]\n",
        "  longest_palindrome=\"\"\n",
        "  for i in palindromes:\n",
        "    if len(i)>len(longest_palindrome):\n",
        "      longest_palindrome=i\n",
        "  return longest_palindrome\n",
        "\n",
        "palindromes= [\"Radar\", \"Level\", \"Madam\", \"Kayak\", \"Civic\", \"Noon\", \"Deified\", \"Racecar\", \"Rotator\", \"Redder\"]\n",
        "\n",
        "print(f\"the longest palinedrome is: {longest_palindrome(palindromes)}\")"
      ],
      "metadata": {
        "colab": {
          "base_uri": "https://localhost:8080/"
        },
        "id": "gPBA9fjlSqh_",
        "outputId": "08c002ae-7289-4e51-9859-ffbc3125637c"
      },
      "execution_count": 62,
      "outputs": [
        {
          "output_type": "stream",
          "name": "stdout",
          "text": [
            "the longest palinedrome is: Deified\n"
          ]
        }
      ]
    }
  ]
}